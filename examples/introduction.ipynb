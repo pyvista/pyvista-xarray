{
 "cells": [
  {
   "cell_type": "markdown",
   "id": "a7d44652-f1bb-409a-91ab-0c60f37ebcfb",
   "metadata": {},
   "source": [
    "# An introduction to pyvista-xarray"
   ]
  },
  {
   "cell_type": "code",
   "execution_count": null,
   "id": "1a4e6977-7a34-48a2-80c6-6018101358ff",
   "metadata": {},
   "outputs": [],
   "source": [
    "import pvxarray\n",
    "import xarray as xr\n",
    "import numpy as np\n",
    "import pyvista as pv"
   ]
  },
  {
   "cell_type": "markdown",
   "id": "3523b485-1f8e-44af-88bb-11ec9b0b2eed",
   "metadata": {},
   "source": [
    "You must `import pvxarray` in order to register the `DataArray` accessor with\n",
    "xarray. After which, a `pyvista` namespace of accessors will be available.\n",
    "\n",
    "## Rectilinear Grid\n",
    "The following is an example to visualize a `RectilinearGrid` with PyVista:"
   ]
  },
  {
   "cell_type": "code",
   "execution_count": null,
   "id": "57cf2840-93c8-4a9b-96a8-945a1b300df3",
   "metadata": {},
   "outputs": [],
   "source": [
    "ds = xr.tutorial.load_dataset(\"air_temperature\")\n",
    "da = ds.air[dict(time=0)]  # Select DataArray for a timestep\n",
    "\n",
    "# Plot in 3D\n",
    "da.pyvista.plot(x=\"lon\", y=\"lat\", cpos=\"xy\")"
   ]
  },
  {
   "cell_type": "code",
   "execution_count": null,
   "id": "4aeee844-8b3f-4b6a-8af8-d4a529f2f55a",
   "metadata": {},
   "outputs": [],
   "source": [
    "# Or grab the mesh object for use with PyVista\n",
    "mesh = da.pyvista.mesh(x=\"lon\", y=\"lat\")\n",
    "mesh"
   ]
  },
  {
   "cell_type": "markdown",
   "id": "044a198a-bea7-44d3-8a72-d6e9caa990d8",
   "metadata": {},
   "source": [
    "### Simple RectilinearGrid"
   ]
  },
  {
   "cell_type": "code",
   "execution_count": null,
   "id": "14fe8e06-bb6a-4a91-929d-2673ad36403f",
   "metadata": {},
   "outputs": [],
   "source": [
    "lon = np.array([-99.83, -99.32])\n",
    "lat = np.array([42.25, 42.21])\n",
    "z = np.array([0, 10])\n",
    "temp = 15 + 8 * np.random.randn(2, 2, 2)\n",
    "\n",
    "ds = xr.Dataset(\n",
    "    {\n",
    "        \"temperature\": ([\"z\", \"x\", \"y\"], temp),\n",
    "    },\n",
    "    coords={\n",
    "        \"lon\": ([\"x\"], lon),\n",
    "        \"lat\": ([\"y\"], lat),\n",
    "        \"z\": ([\"z\"], z),\n",
    "    },\n",
    ")\n",
    "\n",
    "mesh = ds.temperature.pyvista.mesh(x=\"lon\", y=\"lat\", z=\"z\")\n",
    "mesh.plot()"
   ]
  },
  {
   "cell_type": "markdown",
   "id": "1a914020-6930-4d22-9555-666afbe9fb2f",
   "metadata": {},
   "source": [
    "### Raster with rioxarray"
   ]
  },
  {
   "cell_type": "code",
   "execution_count": null,
   "id": "f2faca4b-40ef-46c0-960f-70e72511854b",
   "metadata": {},
   "outputs": [],
   "source": [
    "import rioxarray\n",
    "\n",
    "# from https://download.osgeo.org/geotiff/samples/spot/chicago/\n",
    "da = rioxarray.open_rasterio(\"data/UTM2GTIF.tiff\")\n",
    "da = da.rio.reproject(\"EPSG:3857\")\n",
    "\n",
    "# Grab the mesh object for use with PyVista\n",
    "mesh = da[dict(band=0)].pyvista.mesh(x=\"x\", y=\"y\")\n",
    "\n",
    "# plot in 3D\n",
    "mesh.warp_by_scalar().plot(jupyter_backend=\"server\")"
   ]
  }
 ],
 "metadata": {
  "kernelspec": {
   "display_name": "pan3d",
   "language": "python",
   "name": "python3"
  },
  "language_info": {
   "codemirror_mode": {
    "name": "ipython",
    "version": 3
   },
   "file_extension": ".py",
   "mimetype": "text/x-python",
   "name": "python",
   "nbconvert_exporter": "python",
   "pygments_lexer": "ipython3",
   "version": "3.9.13"
  },
  "vscode": {
   "interpreter": {
    "hash": "2403d0500f811771b019ef5e1ce7fea8068ccfc668eb68b7faee3feb3c0e8b57"
   }
  }
 },
 "nbformat": 4,
 "nbformat_minor": 5
}
