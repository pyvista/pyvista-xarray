{
 "cells": [
  {
   "cell_type": "code",
   "execution_count": null,
   "id": "7239b342",
   "metadata": {
    "tags": []
   },
   "outputs": [],
   "source": [
    "import pyvista as pv\n",
    "import pvxarray\n",
    "import xarray as xr\n",
    "import numpy as np"
   ]
  },
  {
   "cell_type": "code",
   "execution_count": null,
   "id": "d61bf20a",
   "metadata": {
    "tags": []
   },
   "outputs": [],
   "source": [
    "ds = xr.tutorial.load_dataset(\"air_temperature\")\n",
    "da = ds.air\n",
    "\n",
    "algorithm = da.pyvista.algorithm(x=\"lon\", y=\"lat\", time=\"time\")"
   ]
  },
  {
   "cell_type": "code",
   "execution_count": null,
   "id": "f2b99729",
   "metadata": {
    "tags": []
   },
   "outputs": [],
   "source": [
    "pl = pv.Plotter()\n",
    "pl.add_mesh(algorithm)\n",
    "pl.show(cpos=\"xy\")"
   ]
  },
  {
   "cell_type": "code",
   "execution_count": null,
   "id": "2c23c867",
   "metadata": {
    "tags": []
   },
   "outputs": [],
   "source": [
    "algorithm.max_time_index"
   ]
  },
  {
   "cell_type": "code",
   "execution_count": null,
   "id": "3d24d82d",
   "metadata": {
    "tags": []
   },
   "outputs": [],
   "source": [
    "ds = xr.tutorial.load_dataset(\"basin_mask\")\n",
    "da = ds.basin\n",
    "\n",
    "# bottom, left, top, right\n",
    "box = (-96.7030229414862, 90 - 64.98056667458044, -7.397202215623508, 90 + 23.180353571106195)\n",
    "\n",
    "min_lat, min_lon, max_lat, max_lon = box\n",
    "\n",
    "LatIndexer, LonIndexer = \"Y\", \"X\"\n",
    "roi = da.loc[{LatIndexer: slice(min_lat, max_lat), LonIndexer: slice(min_lon, max_lon)}]"
   ]
  },
  {
   "cell_type": "code",
   "execution_count": null,
   "id": "5dccfe0f",
   "metadata": {
    "tags": []
   },
   "outputs": [],
   "source": [
    "roi"
   ]
  },
  {
   "cell_type": "code",
   "execution_count": null,
   "id": "7e0a3274",
   "metadata": {
    "tags": []
   },
   "outputs": [],
   "source": [
    "mesh = roi.pyvista.mesh(x=\"X\", y=\"Y\", z=\"Z\")\n",
    "\n",
    "pl = pv.Plotter()\n",
    "pl.add_mesh(mesh)\n",
    "pl.set_scale(zscale=0.001)\n",
    "pl.show()"
   ]
  }
 ],
 "metadata": {
  "kernelspec": {
   "display_name": "Python 3 (ipykernel)",
   "language": "python",
   "name": "python3"
  },
  "language_info": {
   "codemirror_mode": {
    "name": "ipython",
    "version": 3
   },
   "file_extension": ".py",
   "mimetype": "text/x-python",
   "name": "python",
   "nbconvert_exporter": "python",
   "pygments_lexer": "ipython3",
   "version": "3.9.17"
  }
 },
 "nbformat": 4,
 "nbformat_minor": 5
}
