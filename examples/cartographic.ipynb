{
 "cells": [
  {
   "attachments": {},
   "cell_type": "markdown",
   "id": "4b5506eb-50a4-49b2-ad9b-4705b7e24c9e",
   "metadata": {},
   "source": [
    "# Cartographic Rendering\n",
    "\n",
    "Display a geospatial dataset with lat/lon coordinates in a cartographic 3D reference with [GeoVista](https://github.com/bjlittle/geovista)\n",
    "\n",
    "Requires the PyVista 0.38.1 and following pull requests:\n",
    "\n",
    "- GeoVista algorithm support: https://github.com/bjlittle/geovista/pull/162"
   ]
  },
  {
   "cell_type": "code",
   "execution_count": null,
   "id": "b64a0184-4e78-4210-aa06-bac22fccebf3",
   "metadata": {},
   "outputs": [],
   "source": [
    "import geovista as gv\n",
    "import pyvista as pv\n",
    "from pvxarray.vtk_source import PyVistaXarraySource\n",
    "import xarray as xr"
   ]
  },
  {
   "cell_type": "code",
   "execution_count": null,
   "id": "d1f8421b-9dd4-4f2f-9d7d-eafced578e58",
   "metadata": {},
   "outputs": [],
   "source": [
    "# Temporary manual mode override; waiting for pyvista release including changes from https://github.com/pyvista/pyvista/pull/5798\n",
    "\n",
    "pv.global_theme.trame.server_proxy_enabled = False\n",
    "pv.global_theme.trame.jupyter_extension_enabled = True"
   ]
  },
  {
   "cell_type": "code",
   "execution_count": null,
   "id": "7768eaf7-44e2-4e56-8070-557228de9511",
   "metadata": {},
   "outputs": [],
   "source": [
    "# From https://www.ncei.noaa.gov/products/optimum-interpolation-sst\n",
    "ds = xr.open_dataset(\"data/oisst-avhrr-v02r01.19810901.nc\")\n",
    "da = ds.err\n",
    "source = PyVistaXarraySource(da, x=\"lon\", y=\"lat\", z=\"zlev\", time=\"time\", resolution=1.0)"
   ]
  },
  {
   "cell_type": "code",
   "execution_count": null,
   "id": "d0e2fb68-d103-480c-88a7-a95efbd91fac",
   "metadata": {},
   "outputs": [],
   "source": [
    "plotter = gv.GeoPlotter()\n",
    "actor = plotter.add_mesh(\n",
    "    source,\n",
    "    cmap=\"coolwarm\",\n",
    "    nan_opacity=0,\n",
    ")\n",
    "basemap_actor = plotter.add_base_layer(texture=gv.blue_marble())\n",
    "resolution = \"10m\"\n",
    "plotter.add_coastlines(resolution=resolution, color=\"white\")\n",
    "plotter.enable_depth_peeling()\n",
    "plotter.view_isometric()\n",
    "plotter.show()"
   ]
  }
 ],
 "metadata": {
  "kernelspec": {
   "display_name": "Python 3 (ipykernel)",
   "language": "python",
   "name": "python3"
  },
  "language_info": {
   "codemirror_mode": {
    "name": "ipython",
    "version": 3
   },
   "file_extension": ".py",
   "mimetype": "text/x-python",
   "name": "python",
   "nbconvert_exporter": "python",
   "pygments_lexer": "ipython3",
   "version": "3.9.18"
  },
  "vscode": {
   "interpreter": {
    "hash": "2403d0500f811771b019ef5e1ce7fea8068ccfc668eb68b7faee3feb3c0e8b57"
   }
  }
 },
 "nbformat": 4,
 "nbformat_minor": 5
}
