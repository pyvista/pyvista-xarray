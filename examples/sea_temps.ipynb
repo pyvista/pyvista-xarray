{
 "cells": [
  {
   "cell_type": "code",
   "execution_count": null,
   "id": "bc17768f",
   "metadata": {},
   "outputs": [],
   "source": [
    "import xarray\n",
    "import pvxarray\n",
    "from pvxarray.vtk_source import PyVistaXarraySource\n"
   ]
  },
  {
   "cell_type": "code",
   "execution_count": null,
   "id": "a6eddc4e-815c-4a32-a39a-efbfb117eafc",
   "metadata": {},
   "outputs": [],
   "source": [
    "# Temporary manual mode override; waiting for pyvista release including changes from https://github.com/pyvista/pyvista/pull/5798\n",
    "import pyvista as pv \n",
    "\n",
    "pv.global_theme.trame.server_proxy_enabled = False\n",
    "pv.global_theme.trame.jupyter_extension_enabled = True"
   ]
  },
  {
   "cell_type": "code",
   "execution_count": null,
   "id": "d7adbd74",
   "metadata": {},
   "outputs": [],
   "source": [
    "url = 'https://ncsa.osn.xsede.org/Pangeo/pangeo-forge/noaa-coastwatch-geopolar-sst-feedstock/noaa-coastwatch-geopolar-sst.zarr'\n",
    "dataset = xarray.open_dataset(url, engine=\"zarr\", chunks={})\n",
    "\n",
    "algorithm = PyVistaXarraySource()\n",
    "algorithm.data_array = dataset[\"analysed_sst\"]\n",
    "algorithm.resolution = 0.01\n",
    "algorithm.x = \"lat\"\n",
    "algorithm.y = \"lon\"\n",
    "algorithm.time = \"time\"\n",
    "algorithm.time_index = 0\n"
   ]
  },
  {
   "cell_type": "code",
   "execution_count": null,
   "id": "64cb5e10",
   "metadata": {},
   "outputs": [],
   "source": [
    "mesh = algorithm.apply()\n",
    "mesh.plot()\n"
   ]
  }
 ],
 "metadata": {
  "kernelspec": {
   "display_name": "pan3d",
   "language": "python",
   "name": "pan3d"
  },
  "language_info": {
   "codemirror_mode": {
    "name": "ipython",
    "version": 3
   },
   "file_extension": ".py",
   "mimetype": "text/x-python",
   "name": "python",
   "nbconvert_exporter": "python",
   "pygments_lexer": "ipython3",
   "version": "3.9.18"
  },
  "toc": {
   "base_numbering": 1,
   "nav_menu": {},
   "number_sections": true,
   "sideBar": true,
   "skip_h1_title": false,
   "title_cell": "Table of Contents",
   "title_sidebar": "Contents",
   "toc_cell": false,
   "toc_position": {},
   "toc_section_display": true,
   "toc_window_display": false
  }
 },
 "nbformat": 4,
 "nbformat_minor": 5
}
